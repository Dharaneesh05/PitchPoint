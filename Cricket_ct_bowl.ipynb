{
  "cells": [
    {
      "cell_type": "markdown",
      "metadata": {
        "id": "f5OlEoy9e66X"
      },
      "source": [
        "CRICKET BOWLERS PERFORMANCE PREDICTION"
      ]
    },
    {
      "cell_type": "code",
      "execution_count": 3,
      "metadata": {
        "id": "nj6FnPQ0e-cJ"
      },
      "outputs": [],
      "source": [
        "import numpy as np\n",
        "import pandas as pd\n",
        "import seaborn as sns\n",
        "import matplotlib.pyplot as plt\n",
        "from sklearn.model_selection import train_test_split\n",
        "from sklearn.tree import DecisionTreeRegressor\n",
        "from sklearn.neighbors import KNeighborsRegressor\n",
        "from xgboost import XGBRegressor\n",
        "from sklearn.ensemble import RandomForestRegressor\n",
        "from sklearn.linear_model import LinearRegression\n",
        "from sklearn.svm import SVR\n",
        "from seaborn import heatmap\n",
        "from sklearn.metrics import mean_squared_error, r2_score"
      ]
    },
    {
      "cell_type": "code",
      "execution_count": 4,
      "metadata": {
        "colab": {
          "base_uri": "https://localhost:8080/"
        },
        "id": "Dokw4elEfC8F",
        "outputId": "be372c8e-e43d-4613-bb4b-0c43f85ca8fc"
      },
      "outputs": [
        {
          "output_type": "stream",
          "name": "stdout",
          "text": [
            "Dataset loaded successfully. Here are the first few rows:\n",
            "   Match ID  innings      team opposition  bowler id  overs  balls  maidens  \\\n",
            "0   1198242        1   England   Pakistan      10829   27.0    162        5   \n",
            "1   1198242        1   England   Pakistan      48440   27.2    164        9   \n",
            "2   1198242        1   England   Pakistan      72103   18.0    108        3   \n",
            "3   1198242        1   England   Pakistan      49496   19.0    114        3   \n",
            "4   1198242        2  Pakistan    England      95855   10.0     60        3   \n",
            "\n",
            "   conceded  wickets  economy   dots  fours  sixes  wides  noballs  \n",
            "0        60        3     2.22  132.0    7.0    0.0      0        1  \n",
            "1        56        4     2.04  135.0    5.0    0.0      0        0  \n",
            "2        44        1     2.44   82.0    3.0    0.0      0        0  \n",
            "3        55        1     2.89   86.0    5.0    0.0      1        0  \n",
            "4        25        1     2.50   51.0    2.0    0.0      1        1  \n"
          ]
        }
      ],
      "source": [
        "file_path = '/content/test_Bowling_Card.csv'\n",
        "uploaded_data = pd.read_csv(file_path)\n",
        "print(\"Dataset loaded successfully. Here are the first few rows:\")\n",
        "print(uploaded_data.head())"
      ]
    },
    {
      "cell_type": "code",
      "execution_count": 5,
      "metadata": {
        "colab": {
          "base_uri": "https://localhost:8080/"
        },
        "id": "Kjp3is7MfH3H",
        "outputId": "d7d56bd3-51e0-4f3f-958a-3f2fe4fd85bb"
      },
      "outputs": [
        {
          "output_type": "stream",
          "name": "stdout",
          "text": [
            "\n",
            "Converting categorical columns 'team' and 'opposition' to numeric codes.\n"
          ]
        }
      ],
      "source": [
        "print(\"\\nConverting categorical columns 'team' and 'opposition' to numeric codes.\")\n",
        "uploaded_data['team'] = uploaded_data['team'].astype('category').cat.codes\n",
        "uploaded_data['opposition'] = uploaded_data['opposition'].astype('category').cat.codes"
      ]
    },
    {
      "cell_type": "code",
      "execution_count": 6,
      "metadata": {
        "colab": {
          "base_uri": "https://localhost:8080/"
        },
        "id": "HPlzxqS_fK-X",
        "outputId": "0cde0655-a6d1-4c3a-d028-42cb540997da"
      },
      "outputs": [
        {
          "output_type": "stream",
          "name": "stdout",
          "text": [
            "\n",
            "Filling missing values in columns: ['overs', 'balls', 'maidens', 'conceded', 'economy', 'dots', 'fours', 'sixes', 'wides', 'noballs']\n",
            "Filled missing values in 'overs' with median value.\n",
            "Filled missing values in 'balls' with median value.\n",
            "Filled missing values in 'maidens' with median value.\n",
            "Filled missing values in 'conceded' with median value.\n",
            "Filled missing values in 'economy' with median value.\n",
            "Filled missing values in 'dots' with median value.\n",
            "Filled missing values in 'fours' with median value.\n",
            "Filled missing values in 'sixes' with median value.\n",
            "Filled missing values in 'wides' with median value.\n",
            "Filled missing values in 'noballs' with median value.\n"
          ]
        },
        {
          "output_type": "stream",
          "name": "stderr",
          "text": [
            "<ipython-input-6-f0daa521beae>:4: FutureWarning: A value is trying to be set on a copy of a DataFrame or Series through chained assignment using an inplace method.\n",
            "The behavior will change in pandas 3.0. This inplace method will never work because the intermediate object on which we are setting values always behaves as a copy.\n",
            "\n",
            "For example, when doing 'df[col].method(value, inplace=True)', try using 'df.method({col: value}, inplace=True)' or df[col] = df[col].method(value) instead, to perform the operation inplace on the original object.\n",
            "\n",
            "\n",
            "  uploaded_data[col].fillna(uploaded_data[col].median(), inplace=True)\n"
          ]
        }
      ],
      "source": [
        "numerical_columns = ['overs', 'balls', 'maidens', 'conceded', 'economy', 'dots', 'fours', 'sixes', 'wides', 'noballs']\n",
        "print(f\"\\nFilling missing values in columns: {numerical_columns}\")\n",
        "for col in numerical_columns:\n",
        "    uploaded_data[col].fillna(uploaded_data[col].median(), inplace=True)\n",
        "    print(f\"Filled missing values in '{col}' with median value.\")"
      ]
    },
    {
      "cell_type": "code",
      "execution_count": 7,
      "metadata": {
        "colab": {
          "base_uri": "https://localhost:8080/"
        },
        "id": "PTxeNvAofOgm",
        "outputId": "2510c7c2-8f32-444a-b1d3-61bfb9b46ba7"
      },
      "outputs": [
        {
          "output_type": "stream",
          "name": "stdout",
          "text": [
            "\n",
            "Data after cleaning and preparation:\n",
            "           Match ID       innings          team    opposition      bowler id  \\\n",
            "count  4.912000e+04  49120.000000  49120.000000  49120.000000   49120.000000   \n",
            "mean   2.902332e+05      2.324654      5.786991      5.801832   14432.979235   \n",
            "std    3.990802e+05      1.060573      3.588093      3.563191   22843.211083   \n",
            "min    6.238700e+04      1.000000      0.000000      0.000000       2.000000   \n",
            "25%    6.302000e+04      1.000000      3.000000      3.000000    1219.000000   \n",
            "50%    6.366800e+04      2.000000      5.000000      5.000000    1951.000000   \n",
            "75%    3.787500e+05      3.000000      9.000000      9.000000   10829.000000   \n",
            "max    1.419831e+06      4.000000     12.000000     12.000000  114592.000000   \n",
            "\n",
            "              overs         balls       maidens      conceded       wickets  \\\n",
            "count  49120.000000  49120.000000  49120.000000  49120.000000  49120.000000   \n",
            "mean      17.366354    105.962602      4.039577     49.038681      1.546112   \n",
            "std       11.906510     72.371867      4.205420     34.299269      1.640069   \n",
            "min        0.000000      0.000000      0.000000      0.000000      0.000000   \n",
            "25%        8.000000     48.000000      1.000000     22.000000      0.000000   \n",
            "50%       16.000000     96.000000      3.000000     44.000000      1.000000   \n",
            "75%       24.325000    150.000000      6.000000     70.000000      2.000000   \n",
            "max      102.100000    588.000000     56.000000    298.000000     10.000000   \n",
            "\n",
            "            economy          dots         fours         sixes         wides  \\\n",
            "count  49120.000000  49120.000000  49120.000000  49120.000000  49120.000000   \n",
            "mean       2.991338     71.066551      5.420480      0.154581      0.105456   \n",
            "std        1.486591     32.240505      3.010813      0.580625      0.429043   \n",
            "min        0.000000      0.000000      0.000000      0.000000      0.000000   \n",
            "25%        2.110000     69.000000      5.000000      0.000000      0.000000   \n",
            "50%        2.790000     69.000000      5.000000      0.000000      0.000000   \n",
            "75%        3.600000     69.000000      5.000000      0.000000      0.000000   \n",
            "max       36.000000    368.000000     34.000000     10.000000     12.000000   \n",
            "\n",
            "            noballs  \n",
            "count  49120.000000  \n",
            "mean       0.468343  \n",
            "std        1.448216  \n",
            "min        0.000000  \n",
            "25%        0.000000  \n",
            "50%        0.000000  \n",
            "75%        0.000000  \n",
            "max       21.000000  \n"
          ]
        }
      ],
      "source": [
        "print(\"\\nData after cleaning and preparation:\")\n",
        "print(uploaded_data.describe())"
      ]
    },
    {
      "cell_type": "code",
      "execution_count": 8,
      "metadata": {
        "colab": {
          "base_uri": "https://localhost:8080/"
        },
        "id": "NicvjSibfRSE",
        "outputId": "a75a4119-3a7f-4ec1-feaf-be293e735693"
      },
      "outputs": [
        {
          "output_type": "stream",
          "name": "stdout",
          "text": [
            "\n",
            "Features and target variable defined. Sample of features (X):\n",
            "   team  opposition  overs  balls  maidens  conceded  economy   dots  fours  \\\n",
            "0     3           8   27.0    162        5        60     2.22  132.0    7.0   \n",
            "1     3           8   27.2    164        9        56     2.04  135.0    5.0   \n",
            "2     3           8   18.0    108        3        44     2.44   82.0    3.0   \n",
            "3     3           8   19.0    114        3        55     2.89   86.0    5.0   \n",
            "4     8           3   10.0     60        3        25     2.50   51.0    2.0   \n",
            "\n",
            "   sixes  wides  noballs  \n",
            "0    0.0      0        1  \n",
            "1    0.0      0        0  \n",
            "2    0.0      0        0  \n",
            "3    0.0      1        0  \n",
            "4    0.0      1        1  \n",
            "\n",
            "Target variable (y):\n",
            "0    3\n",
            "1    4\n",
            "2    1\n",
            "3    1\n",
            "4    1\n",
            "Name: wickets, dtype: int64\n"
          ]
        }
      ],
      "source": [
        "X = uploaded_data[['team', 'opposition', 'overs', 'balls', 'maidens', 'conceded', 'economy', 'dots', 'fours', 'sixes', 'wides', 'noballs']]\n",
        "y = uploaded_data['wickets']\n",
        "print(\"\\nFeatures and target variable defined. Sample of features (X):\")\n",
        "print(X.head())\n",
        "print(\"\\nTarget variable (y):\")\n",
        "print(y.head())"
      ]
    },
    {
      "cell_type": "code",
      "execution_count": 9,
      "metadata": {
        "colab": {
          "base_uri": "https://localhost:8080/"
        },
        "id": "w-1JrahYfT3L",
        "outputId": "3c026dc9-11ab-4524-8aed-8afddef1245f"
      },
      "outputs": [
        {
          "output_type": "stream",
          "name": "stdout",
          "text": [
            "\n",
            "Data split into training and testing sets.\n",
            "Training set size: (39296, 12)\n",
            "Testing set size: (9824, 12)\n"
          ]
        }
      ],
      "source": [
        "X_train, X_test, y_train, y_test = train_test_split(X, y, test_size=0.2, random_state=42)\n",
        "print(\"\\nData split into training and testing sets.\")\n",
        "print(\"Training set size:\", X_train.shape)\n",
        "print(\"Testing set size:\", X_test.shape)"
      ]
    },
    {
      "cell_type": "code",
      "execution_count": 10,
      "metadata": {
        "colab": {
          "base_uri": "https://localhost:8080/"
        },
        "id": "I_aJMYtofWcG",
        "outputId": "e95a270b-8a56-4962-f181-f984ac0cb6bf"
      },
      "outputs": [
        {
          "output_type": "stream",
          "name": "stdout",
          "text": [
            "\n",
            "Training the Decision Tree Regressor model for bowler...\n",
            "Model training complete.\n"
          ]
        }
      ],
      "source": [
        "tree = DecisionTreeRegressor(max_depth=10, random_state=42)\n",
        "print(\"\\nTraining the Decision Tree Regressor model for bowler...\")\n",
        "tree.fit(X_train, y_train)\n",
        "print(\"Model training complete.\")"
      ]
    },
    {
      "cell_type": "code",
      "execution_count": 11,
      "metadata": {
        "colab": {
          "base_uri": "https://localhost:8080/"
        },
        "id": "shzivwGkfYr5",
        "outputId": "e3cc516e-c33a-44fa-c536-276ae0eb90bc"
      },
      "outputs": [
        {
          "output_type": "stream",
          "name": "stdout",
          "text": [
            "\n",
            "Predicting on the test set...\n"
          ]
        }
      ],
      "source": [
        "print(\"\\nPredicting on the test set...\")\n",
        "y_pred = tree.predict(X_test)\n",
        "mse = mean_squared_error(y_test, y_pred)\n",
        "r2 = r2_score(y_test, y_pred)"
      ]
    },
    {
      "cell_type": "code",
      "execution_count": 12,
      "metadata": {
        "colab": {
          "base_uri": "https://localhost:8080/"
        },
        "id": "4pH033IKfa52",
        "outputId": "935e67e5-a924-4760-e56c-6193b2fe8da9"
      },
      "outputs": [
        {
          "output_type": "stream",
          "name": "stdout",
          "text": [
            "\n",
            "Model Performance for Bowler Prediction:\n",
            "Mean Squared Error (MSE): 1.8975331521077905\n",
            "R-squared (R2 Score): 0.27417382937422585\n"
          ]
        }
      ],
      "source": [
        "print(\"\\nModel Performance for Bowler Prediction:\")\n",
        "print(\"Mean Squared Error (MSE):\", mse)\n",
        "print(\"R-squared (R2 Score):\", r2)"
      ]
    },
    {
      "cell_type": "code",
      "execution_count": 13,
      "metadata": {
        "colab": {
          "base_uri": "https://localhost:8080/",
          "height": 487
        },
        "id": "toAuGaiqfdYr",
        "outputId": "e7d78a92-52ce-426e-e27e-072704f87166"
      },
      "outputs": [
        {
          "output_type": "stream",
          "name": "stdout",
          "text": [
            "\n",
            "Plotting feature importances for bowler prediction...\n"
          ]
        },
        {
          "output_type": "display_data",
          "data": {
            "text/plain": [
              "<Figure size 640x480 with 1 Axes>"
            ],
            "image/png": "[encoded data removed]"
          },
          "metadata": {}
        }
      ],
      "source": [
        "print(\"\\nPlotting feature importances for bowler prediction...\")\n",
        "feature_importances = pd.Series(tree.feature_importances_, index=X.columns)\n",
        "feature_importances.nlargest(10).plot(kind='barh')\n",
        "plt.title(\"Feature Importances for Bowler Performance Prediction\")\n",
        "plt.show()"
      ]
    },
    {
      "cell_type": "code",
      "execution_count": 14,
      "metadata": {
        "id": "kLZ0_8CNfr5D"
      },
      "outputs": [],
      "source": [
        "comp = {}"
      ]
    },
    {
      "cell_type": "code",
      "execution_count": 15,
      "metadata": {
        "id": "wF5pjnyvff_v"
      },
      "outputs": [],
      "source": [
        "models = {\n",
        "    \"Decision Tree\": DecisionTreeRegressor(),\n",
        "    \"K-Neighbors\": KNeighborsRegressor(),\n",
        "    \"XGBoost\": XGBRegressor(),\n",
        "    \"Random Forest\": RandomForestRegressor(),\n",
        "    \"Linear Regression\": LinearRegression(),\n",
        "    \"Support Vector\": SVR()\n",
        "}"
      ]
    },
    {
      "cell_type": "code",
      "execution_count": 18,
      "metadata": {
        "colab": {
          "base_uri": "https://localhost:8080/"
        },
        "id": "nXsUsmNBf8iG",
        "outputId": "b9c1582b-1ee9-4e02-f9a2-4ba109ffed06"
      },
      "outputs": [
        {
          "output_type": "stream",
          "name": "stdout",
          "text": [
            "Training Decision Tree...\n",
            "Decision Tree Regressor score: -0.36608037013248595\n",
            "Training K-Neighbors...\n",
            "K-Neighbors Regressor score: 0.1691581246779874\n",
            "Training XGBoost...\n",
            "XGBoost Regressor score: 0.3145316243171692\n",
            "Training Random Forest...\n",
            "Random Forest Regressor score: 0.2926357670348778\n",
            "Training Linear Regression...\n",
            "Linear Regression Regressor score: 0.2557562976086839\n",
            "Training Support Vector...\n",
            "Support Vector Regressor score: 0.26620416531561575\n",
            "Support Vector training exceeded time limit (60s).\n"
          ]
        }
      ],
      "source": [
        "from sklearn.exceptions import ConvergenceWarning\n",
        "import warnings\n",
        "import time\n",
        "\n",
        "warnings.filterwarnings(\"ignore\", category=ConvergenceWarning)\n",
        "\n",
        "comp = {}  # Dictionary to store model scores\n",
        "timeout_limit = 60  # Time limit in seconds for each model\n",
        "\n",
        "for model_name, model in models.items():\n",
        "    start_time = time.time()\n",
        "    try:\n",
        "        print(f\"Training {model_name}...\")\n",
        "        model.fit(X_train, y_train)  # Train the model\n",
        "        score = model.score(X_test, y_test)  # Evaluate the model\n",
        "        comp[model_name] = score  # Save the score\n",
        "        print(f\"{model_name} Regressor score: {score}\")\n",
        "    except KeyboardInterrupt:\n",
        "        print(f\"Training {model_name} interrupted.\")\n",
        "        break\n",
        "    except Exception as e:\n",
        "        print(f\"Error with {model_name}: {e}\")\n",
        "    finally:\n",
        "        elapsed_time = time.time() - start_time\n",
        "        if elapsed_time > timeout_limit:\n",
        "            print(f\"{model_name} training exceeded time limit ({timeout_limit}s).\")\n"
      ]
    },
    {
      "cell_type": "code",
      "execution_count": 17,
      "metadata": {
        "colab": {
          "base_uri": "https://localhost:8080/",
          "height": 507
        },
        "id": "cr_bnD7UgMux",
        "outputId": "d6bb09f0-3a88-4fba-b8ce-79bd4eca16c3"
      },
      "outputs": [
        {
          "output_type": "display_data",
          "data": {
            "text/plain": [
              "<Figure size 1000x600 with 1 Axes>"
            ],
            "image/png": "[encoded data removed]"
          },
          "metadata": {}
        }
      ],
      "source": [
        "plt.figure(figsize=(10, 6))\n",
        "plt.bar(comp.keys(), comp.values())\n",
        "plt.xlabel(\"Model\")\n",
        "plt.ylabel(\"Score\")\n",
        "plt.title(\"Model Comparison for Bowler Performance Prediction\")\n",
        "plt.show()"
      ]
    },
    {
      "cell_type": "code",
      "execution_count": 19,
      "metadata": {
        "id": "ml44nvkwiDoN",
        "colab": {
          "base_uri": "https://localhost:8080/"
        },
        "outputId": "bbc481c2-20c4-4b5a-f88b-06192102bdeb"
      },
      "outputs": [
        {
          "name": "stdout",
          "output_type": "stream",
          "text": [
            "Enter bowler name: ravichandra Ashwin\n",
            "Enter opposition team: England\n",
            "Enter overs bowled: 30\n",
            "Enter balls bowled: 168\n"
          ]
        }
      ],
      "source": [
        "player = input('Enter bowler name: ')\n",
        "opposition = input('Enter opposition team: ')\n",
        "overs = float(input('Enter overs bowled: '))\n",
        "balls = float(input('Enter balls bowled: '))"
      ]
    },
    {
      "cell_type": "code",
      "execution_count": 20,
      "metadata": {
        "id": "gCi-sh6RiFf3",
        "colab": {
          "base_uri": "https://localhost:8080/"
        },
        "outputId": "8be83279-2072-4583-f91e-9fba61638d60"
      },
      "outputs": [
        {
          "output_type": "stream",
          "name": "stdout",
          "text": [
            "ravichandra Ashwin's predicted wickets against England: 2\n"
          ]
        },
        {
          "output_type": "stream",
          "name": "stderr",
          "text": [
            "/usr/local/lib/python3.10/dist-packages/sklearn/base.py:493: UserWarning: X does not have valid feature names, but DecisionTreeRegressor was fitted with feature names\n",
            "  warnings.warn(\n"
          ]
        }
      ],
      "source": [
        "tree.fit(X_train, y_train)\n",
        "prediction = tree.predict([[1, 1, overs, balls, 0, 0, 0, 0, 0, 0, 0, 0]])\n",
        "print(f\"{player}'s predicted wickets against {opposition}: {int(prediction[0])}\")"
      ]
    },
    {
      "cell_type": "code",
      "execution_count": 21,
      "metadata": {
        "colab": {
          "base_uri": "https://localhost:8080/"
        },
        "id": "D0UIAw9ciIVC",
        "outputId": "a16f3c76-4aef-47ce-ca55-3f4e354a99b8"
      },
      "outputs": [
        {
          "output_type": "stream",
          "name": "stdout",
          "text": [
            "Tree model score on test set: 0.27417382937422585\n"
          ]
        }
      ],
      "source": [
        "print(\"Tree model score on test set:\", tree.score(X_test, y_test))"
      ]
    }
  ],
  "metadata": {
    "colab": {
      "provenance": []
    },
    "kernelspec": {
      "display_name": "Python 3",
      "name": "python3"
    },
    "language_info": {
      "name": "python"
    }
  },
  "nbformat": 4,
  "nbformat_minor": 0
}